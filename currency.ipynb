{
 "cells": [
  {
   "cell_type": "markdown",
   "metadata": {},
   "source": [
    "# A currency converter python project\n"
   ]
  },
  {
   "cell_type": "code",
   "execution_count": null,
   "metadata": {},
   "outputs": [],
   "source": [
    "#currency code python code\n",
    "import requests\n",
    "\n",
    "# Base URL for ExchangeRate API\n",
    "API_URL = \"https://api.exchangerate-api.com/v4/latest/\"\n",
    "\n",
    "# Fetch conversion rates\n",
    "def get_conversion_rate(base_currency):\n",
    "    try:\n",
    "        response = requests.get(f\"{API_URL}{base_currency}\")\n",
    "        if response.status_code == 200:\n",
    "            return response.json()\n",
    "        else:\n",
    "            print(f\"Error fetching rates: {response.status_code}\")\n",
    "            return None\n",
    "    except requests.exceptions.RequestException as e:\n",
    "        print(f\"Error: {e}\")\n",
    "        return None\n",
    "\n",
    "# Convert currency\n",
    "def convert_currency(data, from_currency, to_currency, amount):\n",
    "    if to_currency in data[\"rates\"]:\n",
    "        rate = data[\"rates\"][to_currency]\n",
    "        converted_amount = rate * amount\n",
    "        print(f\"\\n{amount} {from_currency} = {converted_amount:.2f} {to_currency}\")\n",
    "    else:\n",
    "        print(f\"Currency '{to_currency}' not found!\")\n",
    "\n",
    "# Main menu\n",
    "def main():\n",
    "    print(\"Welcome to the Currency Converter!\")\n",
    "    base_currency = input(\"Enter your base currency (e.g., USD): \").upper()\n",
    "    data = get_conversion_rate(base_currency)\n",
    "    if not data:\n",
    "        print(\"Unable to fetch exchange rates. Exiting...\")\n",
    "        return\n",
    "\n",
    "    while True:\n",
    "        print(\"\\nCurrency Converter\")\n",
    "        print(\"1. Convert Currency\")\n",
    "        print(\"2. View Available Currencies\")\n",
    "        print(\"3. Exit\")\n",
    "        choice = input(\"Choose an option: \").strip()\n",
    "        if choice == \"1\":\n",
    "            to_currency = input(\"Enter target currency (e.g., EUR): \").upper()\n",
    "            try:\n",
    "                amount = float(input(\"Enter amount to convert: \"))\n",
    "                convert_currency(data, base_currency, to_currency, amount)\n",
    "            except ValueError:\n",
    "                print(\"Invalid amount! Please enter a number.\")\n",
    "        elif choice == \"2\":\n",
    "            print(\"\\nAvailable Currencies:\")\n",
    "            print(\", \".join(data[\"rates\"].keys()))\n",
    "        elif choice == \"3\":\n",
    "            print(\"Goodbye!\")\n",
    "            break\n",
    "        else:\n",
    "            print(\"Invalid choice! Please try again.\")\n",
    "\n",
    "if __name__ == \"__main__\":\n",
    "    main()\n"
   ]
  }
 ],
 "metadata": {
  "kernelspec": {
   "display_name": "Python 3",
   "language": "python",
   "name": "python3"
  },
  "language_info": {
   "name": "python",
   "version": "3.13.0"
  }
 },
 "nbformat": 4,
 "nbformat_minor": 2
}
